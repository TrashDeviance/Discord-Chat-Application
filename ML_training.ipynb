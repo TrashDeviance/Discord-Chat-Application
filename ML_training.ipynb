import pandas as pd

dataset = "C:\\Users\\hunte\\Downloads\\Untitled spreadsheet - Sheet1.csv"
df = pd.read_csv(dataset)
print(df.describe())